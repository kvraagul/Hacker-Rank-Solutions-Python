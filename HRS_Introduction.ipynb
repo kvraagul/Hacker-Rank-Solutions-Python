{
  "nbformat": 4,
  "nbformat_minor": 0,
  "metadata": {
    "colab": {
      "name": "HRS Introduction.ipynb",
      "provenance": [],
      "authorship_tag": "ABX9TyMAirlz/7Ef8+h0k5aaAX8X",
      "include_colab_link": true
    },
    "kernelspec": {
      "name": "python3",
      "display_name": "Python 3"
    },
    "language_info": {
      "name": "python"
    }
  },
  "cells": [
    {
      "cell_type": "markdown",
      "metadata": {
        "id": "view-in-github",
        "colab_type": "text"
      },
      "source": [
        "<a href=\"https://colab.research.google.com/github/kvraagul/Hacker-Rank-Solutions-Python/blob/main/HRS_Introduction.ipynb\" target=\"_parent\"><img src=\"https://colab.research.google.com/assets/colab-badge.svg\" alt=\"Open In Colab\"/></a>"
      ]
    },
    {
      "cell_type": "code",
      "execution_count": 1,
      "metadata": {
        "colab": {
          "base_uri": "https://localhost:8080/"
        },
        "id": "5L9LuMlCg_m-",
        "outputId": "20148265-2e87-4b60-ce6b-a444e1833237"
      },
      "outputs": [
        {
          "output_type": "stream",
          "name": "stdout",
          "text": [
            "Hello, World!\n"
          ]
        }
      ],
      "source": [
        "# say Hello World with python\n",
        "\n",
        "print('Hello, World!')"
      ]
    },
    {
      "cell_type": "code",
      "source": [
        "#Python if-else\n",
        "\n",
        "n = int(input())\n",
        "\n",
        "if n % 2==0:\n",
        "    if n in range(2,5):\n",
        "        print('Not Weird')\n",
        "    elif n in range(6,21):\n",
        "        print('Weird')\n",
        "    elif n > 20:\n",
        "        print('Not Weird')\n",
        "else:\n",
        "    print('Weird')\n",
        "        "
      ],
      "metadata": {
        "colab": {
          "base_uri": "https://localhost:8080/"
        },
        "id": "RN-iHYm3hNmh",
        "outputId": "df4b0f6b-afdb-4ad1-8269-a970104a27fa"
      },
      "execution_count": 2,
      "outputs": [
        {
          "output_type": "stream",
          "name": "stdout",
          "text": [
            "18\n",
            "Weird\n"
          ]
        }
      ]
    },
    {
      "cell_type": "code",
      "source": [
        "# Arithmetic Operator\n",
        "\n",
        "a=int(input())\n",
        "b=int(input())\n",
        "\n",
        "print(a+b)\n",
        "print(a-b)\n",
        "print(a*b)"
      ],
      "metadata": {
        "colab": {
          "base_uri": "https://localhost:8080/"
        },
        "id": "PhmguqathVNv",
        "outputId": "36db6877-bec0-461a-a71b-63f52827863a"
      },
      "execution_count": 3,
      "outputs": [
        {
          "output_type": "stream",
          "name": "stdout",
          "text": [
            "10\n",
            "10\n",
            "20\n",
            "0\n",
            "100\n"
          ]
        }
      ]
    },
    {
      "cell_type": "code",
      "source": [
        "# Python Division\n",
        "\n",
        "a=int(input())\n",
        "b=int(input())\n",
        "\n",
        "print(f\"{a//b} \\n{a/b}\")"
      ],
      "metadata": {
        "colab": {
          "base_uri": "https://localhost:8080/"
        },
        "id": "DUcJA8y9hVTU",
        "outputId": "1669d560-60cf-4ffe-e923-43f5f5365b08"
      },
      "execution_count": 4,
      "outputs": [
        {
          "output_type": "stream",
          "name": "stdout",
          "text": [
            "3\n",
            "4\n",
            "0 \n",
            "0.75\n"
          ]
        }
      ]
    },
    {
      "cell_type": "code",
      "source": [
        "# Loops\n",
        "\n",
        "n = int(input())\n",
        "\n",
        "for i in range(0,n):\n",
        "    print(i*i)"
      ],
      "metadata": {
        "colab": {
          "base_uri": "https://localhost:8080/"
        },
        "id": "54eoaKtehVXi",
        "outputId": "41bde280-6ab4-452b-d8c4-cf93709301fd"
      },
      "execution_count": 5,
      "outputs": [
        {
          "output_type": "stream",
          "name": "stdout",
          "text": [
            "7\n",
            "0\n",
            "1\n",
            "4\n",
            "9\n",
            "16\n",
            "25\n",
            "36\n"
          ]
        }
      ]
    },
    {
      "cell_type": "code",
      "source": [
        "# Write a function\n",
        "\n",
        "def is_leap(year):\n",
        "    return year%4==0 and(year%400==0 or year%100!=0)\n",
        "\n",
        "year = int(input())\n",
        "print(is_leap(year))"
      ],
      "metadata": {
        "colab": {
          "base_uri": "https://localhost:8080/"
        },
        "id": "EeuzDFCnhVbg",
        "outputId": "f32e9213-3c26-4508-b8f5-9f7143b79bd2"
      },
      "execution_count": 7,
      "outputs": [
        {
          "output_type": "stream",
          "name": "stdout",
          "text": [
            "1800\n",
            "False\n"
          ]
        }
      ]
    },
    {
      "cell_type": "code",
      "source": [
        "# Print Function\n",
        "\n",
        "n = int(input())\n",
        "\n",
        "for i in range(1,n+1):\n",
        "    print(i,end='')\n",
        "\n",
        "# Without 'end=\"\" ', every number would be on next line"
      ],
      "metadata": {
        "colab": {
          "base_uri": "https://localhost:8080/"
        },
        "id": "pMaaGTH1hVfC",
        "outputId": "5c51c0d5-2ef5-45ab-9134-d8bef32c0696"
      },
      "execution_count": 8,
      "outputs": [
        {
          "output_type": "stream",
          "name": "stdout",
          "text": [
            "9\n",
            "123456789"
          ]
        }
      ]
    }
  ]
}