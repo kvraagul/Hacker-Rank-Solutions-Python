{
  "nbformat": 4,
  "nbformat_minor": 0,
  "metadata": {
    "colab": {
      "name": "HRS Basic Data Types.ipynb",
      "provenance": [],
      "authorship_tag": "ABX9TyNWDJmChsr8s85umLZFiiAh",
      "include_colab_link": true
    },
    "kernelspec": {
      "name": "python3",
      "display_name": "Python 3"
    },
    "language_info": {
      "name": "python"
    }
  },
  "cells": [
    {
      "cell_type": "markdown",
      "metadata": {
        "id": "view-in-github",
        "colab_type": "text"
      },
      "source": [
        "<a href=\"https://colab.research.google.com/github/kvraagul/Hacker-Rank-Solutions-Python/blob/main/HRS_Basic_Data_Types.ipynb\" target=\"_parent\"><img src=\"https://colab.research.google.com/assets/colab-badge.svg\" alt=\"Open In Colab\"/></a>"
      ]
    },
    {
      "cell_type": "code",
      "execution_count": null,
      "metadata": {
        "id": "RJSUP3XXHS7D"
      },
      "outputs": [],
      "source": [
        "# List Comprehensions (Format for list comprehension is [expression forloop condition])\n",
        "\n",
        "# Solution 1\n",
        "\n",
        "if __name__ == '__main__':\n",
        "    x = int(input())\n",
        "    y = int(input())\n",
        "    z = int(input())\n",
        "    n = int(input())\n",
        "    l = []\n",
        "    \n",
        "    for i in range(0,x+1):\n",
        "        for j in range(0,y+1):\n",
        "            for k in range(0,z+1):\n",
        "                if (i+j+k !=n):\n",
        "                    l.append([i,j,k])\n",
        "    print(l)\n",
        "\n",
        "\n",
        "\n",
        "# Solution2\n",
        "\n",
        "if __name__ == '__main__':\n",
        "    x = int(input())\n",
        "    y = int(input())\n",
        "    z = int(input())\n",
        "    n = int(input())\n",
        "    \n",
        "    l = [[i,j,k] for i in range(0,x+1) for j in range(0,y+1) for k in range(0,z+1) if (i+j+k !=n)]\n",
        "\n",
        "    print(l)"
      ]
    },
    {
      "cell_type": "code",
      "source": [
        "# Find the Runner-up (Second Highest)\n",
        "\n",
        "if __name__ == '__main__':\n",
        "    n = int(input())\n",
        "    arr = list(map(int, input().split()))\n",
        "    arr.sort()\n",
        "    print(arr[(arr.index(max(arr)))-1])"
      ],
      "metadata": {
        "id": "BW2wRMp5P3qt"
      },
      "execution_count": null,
      "outputs": []
    },
    {
      "cell_type": "code",
      "source": [
        "# Nested List\n",
        "\n",
        "n=int(input())\n",
        "nl=[]\n",
        "grade=[]\n",
        "\n",
        "# Step 1 (Create a nested list for name and grades)\n",
        "for i in range (n):\n",
        "    name=input()\n",
        "    marks=float(input())\n",
        "    nl.append([name,marks]) \n",
        "\n",
        "# Step 2 (2nd lowest mark calculation)\n",
        "    grade.append(marks) \n",
        "\n",
        "grade=sorted(set(grade)) # sort unique elements\n",
        "secondlowest = grade[1]\n",
        "\n",
        "# Step 3 (Find the names of 2nd lowest mark in ascending order )\n",
        "\n",
        "name=[]\n",
        "\n",
        "for value in nl:\n",
        "  if secondlowest==value[1]:\n",
        "    name.append(value[0])\n",
        "\n",
        "name.sort()\n",
        "for k in name:\n",
        "  print(k)"
      ],
      "metadata": {
        "id": "TL9-4nJEa1fh"
      },
      "execution_count": null,
      "outputs": []
    },
    {
      "cell_type": "code",
      "source": [
        "# Finding the percentage\n",
        "\n",
        "# Solution 1\n",
        "\n",
        "if __name__ == '__main__':\n",
        "    n = int(input())\n",
        "    student_marks = {}\n",
        "    for _ in range(n):\n",
        "        name, *line = input().split()\n",
        "        scores = list(map(float, line))\n",
        "        student_marks[name] = scores\n",
        "    query_name = input()\n",
        "    \n",
        "    s=0\n",
        "    \n",
        "    for i in student_marks[query_name]:\n",
        "        s=s+i\n",
        "    print(\"{0:.2f}\".format(s/3))\n",
        "\n",
        "\n",
        "# Solution 2 \n",
        "\n",
        "if __name__ == '__main__':\n",
        "    n = int(input())\n",
        "    student_marks = {}\n",
        "    for _ in range(n):\n",
        "        name, *line = input().split()\n",
        "        scores = list(map(float, line))\n",
        "        student_marks[name] = scores\n",
        "    query_name = input()\n",
        "    \n",
        "    marks=student_marks[query_name]\n",
        "    \n",
        "    print(format(sum(marks)/3,'.2f'))\n"
      ],
      "metadata": {
        "id": "uhQEXCZILHIr"
      },
      "execution_count": null,
      "outputs": []
    },
    {
      "cell_type": "code",
      "source": [
        "# Lists\n",
        "\n",
        "N=int(input())\n",
        "\n",
        "lst=[]\n",
        "\n",
        "for i in range(N):\n",
        "    cmd=input().split()\n",
        "    if cmd[0]=='insert':\n",
        "        lst.insert(int(cmd[1]),int(cmd[2]))\n",
        "    elif cmd[0]=='print':\n",
        "        print(lst)\n",
        "    elif cmd[0]=='append':\n",
        "        lst.append(int(cmd[1]))\n",
        "    elif cmd[0]=='sort':\n",
        "        lst.sort()\n",
        "    elif cmd[0]=='pop':\n",
        "        lst.pop()\n",
        "    elif cmd[0]=='reverse':\n",
        "        lst.reverse()\n",
        "    elif cmd[0]=='remove':\n",
        "        lst.remove(int(cmd[1]))"
      ],
      "metadata": {
        "id": "dyyJo1aHrLt-"
      },
      "execution_count": null,
      "outputs": []
    },
    {
      "cell_type": "code",
      "source": [
        "# Tuples\n",
        "\n",
        "n = int(input())\n",
        "t=tuple(map(int,input().split()))\n",
        "print(hash(t))"
      ],
      "metadata": {
        "id": "SwkCVgxnuRS4"
      },
      "execution_count": null,
      "outputs": []
    }
  ]
}